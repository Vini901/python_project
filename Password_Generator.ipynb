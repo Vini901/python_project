{
  "nbformat": 4,
  "nbformat_minor": 0,
  "metadata": {
    "colab": {
      "name": "Password Generator.ipynb",
      "provenance": [],
      "authorship_tag": "ABX9TyMsHzjgUnbK0fNRyjwl8AYw",
      "include_colab_link": true
    },
    "kernelspec": {
      "name": "python3",
      "display_name": "Python 3"
    }
  },
  "cells": [
    {
      "cell_type": "markdown",
      "metadata": {
        "id": "view-in-github",
        "colab_type": "text"
      },
      "source": [
        "<a href=\"https://colab.research.google.com/github/Vini901/python_project/blob/Supervised-Machine-Learning/Password_Generator.ipynb\" target=\"_parent\"><img src=\"https://colab.research.google.com/assets/colab-badge.svg\" alt=\"Open In Colab\"/></a>"
      ]
    },
    {
      "cell_type": "code",
      "metadata": {
        "id": "MBXnoWC70mCx"
      },
      "source": [
        "#Hello\r\n",
        " \r\n",
        "#Password generator\r\n",
        "\r\n",
        "import random\r\n",
        "\r\n",
        "letters = ['a', 'b', 'c', 'd', 'e', 'f', 'g', 'h', 'i', 'j', 'k', 'l', 'm', 'n', 'o', 'p', 'q', 'r', 's', 't', 'u', 'v', 'w', 'x', 'y', 'z', 'A', 'B', 'C', 'D', 'E', 'F', 'G', 'H', 'I', 'J', 'K', 'L', 'M', 'N', 'O', 'P', 'Q', 'R', 'S', 'T', 'U', 'V', 'W', 'X', 'Y', 'Z']\r\n",
        "numbers = ['0', '1', '2', '3', '4', '5', '6', '7', '8', '9']\r\n",
        "symbols = ['!', '#', '$', '%', '&', '(', ')', '*', '+']\r\n",
        "\r\n"
      ],
      "execution_count": 22,
      "outputs": []
    },
    {
      "cell_type": "code",
      "metadata": {
        "colab": {
          "base_uri": "https://localhost:8080/"
        },
        "id": "w5cVSWnM0-Z3",
        "outputId": "fce17bb7-6a38-4a74-cf8b-0b59b15aaf5f"
      },
      "source": [
        "inp=input(\"Write easy for Easy passowrd or hard for Hard password \\n\\n\").lower()"
      ],
      "execution_count": 23,
      "outputs": [
        {
          "output_type": "stream",
          "text": [
            "Write easy for Easy passowrd or hard for Hard password \n",
            "\n",
            "Hard\n"
          ],
          "name": "stdout"
        }
      ]
    },
    {
      "cell_type": "code",
      "metadata": {
        "id": "-9OEFFSx1nTP"
      },
      "source": [
        "def easy():\r\n",
        "  ''' Easy password generator'''\r\n",
        "  nr_letters= int(input(\"How many letters would you like in your password?\\n\")) # passing the number of letter required \r\n",
        "  nr_symbols = int(input(f\"How many symbols would you like?\\n\"))                #passing the number of symbol\r\n",
        "  nr_numbers = int(input(f\"How many numbers would you like?\\n\"))                #passing the number of number required\r\n",
        "  password=\"\"\r\n",
        "  for letter in range(nr_letters):\r\n",
        "    password+=random.choice(letters) \r\n",
        "  for letter in range(nr_symbols):\r\n",
        "    password+=random.choice(symbols)\r\n",
        "  for letter in range(nr_numbers):\r\n",
        "    password+=random.choice(numbers)\r\n",
        "  return password\r\n",
        "\r\n",
        "\r\n",
        "def hard():\r\n",
        "  ''' Hard password generaator\r\n",
        "  nr_letters= int(input(\"How many letters would you like in your password?\\n\")) \r\n",
        "  nr_symbols = int(input(f\"How many symbols would you like?\\n\"))\r\n",
        "  nr_numbers = int(input(f\"How many numbers would you like?\\n\"))\r\n",
        "  password=[]\r\n",
        "  for letter in range(nr_letters):\r\n",
        "    password.append(random.choice(letters))\r\n",
        "  for letter in range(nr_symbols):\r\n",
        "    password.append(random.choice(symbols))\r\n",
        "  for letter in range(nr_numbers):\r\n",
        "    password.append(random.choice(numbers))\r\n",
        "  res=\"\"\r\n",
        "  for psrd in range(len(password)):\r\n",
        "    res+=random.choice(password)\r\n",
        "  return res\r\n",
        "\r\n",
        "\r\n",
        "\r\n"
      ],
      "execution_count": 24,
      "outputs": []
    },
    {
      "cell_type": "code",
      "metadata": {
        "colab": {
          "base_uri": "https://localhost:8080/"
        },
        "id": "vMoL0EWk1OuO",
        "outputId": "d503566d-6930-48c9-f9dc-fb191b4661c9"
      },
      "source": [
        "if inp=='easy':\r\n",
        "  print(easy())\r\n",
        "elif inp=='hard':\r\n",
        "  print(hard())\r\n",
        "else:\r\n",
        "  print(\"Please use from the above options\")"
      ],
      "execution_count": 25,
      "outputs": [
        {
          "output_type": "stream",
          "text": [
            "How many letters would you like in your password?\n",
            "4\n",
            "How many symbols would you like?\n",
            "8\n",
            "How many numbers would you like?\n",
            "9\n",
            ")+5!259977(m((+9999+3\n"
          ],
          "name": "stdout"
        }
      ]
    },
    {
      "cell_type": "code",
      "metadata": {
        "id": "JPUvTCKz15hr"
      },
      "source": [
        "\r\n"
      ],
      "execution_count": null,
      "outputs": []
    }
  ]
}