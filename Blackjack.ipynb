{
  "nbformat": 4,
  "nbformat_minor": 0,
  "metadata": {
    "colab": {
      "name": "Blackjack.ipynb",
      "provenance": [],
      "collapsed_sections": [],
      "authorship_tag": "ABX9TyNnQsRYobXJ3KYSANIeFtor",
      "include_colab_link": true
    },
    "kernelspec": {
      "name": "python3",
      "display_name": "Python 3"
    }
  },
  "cells": [
    {
      "cell_type": "markdown",
      "metadata": {
        "id": "view-in-github",
        "colab_type": "text"
      },
      "source": [
        "<a href=\"https://colab.research.google.com/github/Vini901/python_project/blob/Supervised-Machine-Learning/Blackjack.ipynb\" target=\"_parent\"><img src=\"https://colab.research.google.com/assets/colab-badge.svg\" alt=\"Open In Colab\"/></a>"
      ]
    },
    {
      "cell_type": "code",
      "metadata": {
        "id": "333ntYdk--Uh"
      },
      "source": [
        "import random\r\n",
        "card_num=[11,2,3,4,5,6,7,8,9,10,10,10,10] #These are the card numbers"
      ],
      "execution_count": null,
      "outputs": []
    },
    {
      "cell_type": "code",
      "metadata": {
        "id": "_1r5hNYm97lJ"
      },
      "source": [
        "def blackjack():\r\n",
        "  '''main program'''\r\n",
        "  #person card1 and card2\r\n",
        "  person_card1=random.choice(card_num) \r\n",
        "  person_card2=random.choice(card_num)\r\n",
        "  #computer card 1 and card 2\r\n",
        "  computer_card1=random.choice(card_num)\r\n",
        "  computer_card2=random.choice(card_num)\r\n",
        "  #collecting card into list\r\n",
        "  person=[person_card1,person_card2]\r\n",
        "  computer=[computer_card1,computer_card2]\r\n",
        "  \r\n",
        "  #Showing cards\r\n",
        "  print(f\"Your card are {person}\")\r\n",
        "  print(f\"\\ncomputer card are {computer_card1}\")\r\n",
        "  print(\"\")\r\n",
        "\r\n",
        "  #For hitting a jackpot means your sum is 21 in 2 card it can be 10 and 11 hurray!\r\n",
        "  if  sum(person)==21:\r\n",
        "    if sum(computer)==21:\r\n",
        "      print(\"it's a tie\")\r\n",
        "    else:\r\n",
        "      print(\"Congratulation you hit a jack\")\r\n",
        "    return #yoho you won hitting a jack\r\n",
        "  elif sum(person)==20 or sum(person)==10: #case of splitting when you hace two card as either 10 and 10 or 5 and 5\r\n",
        "    print(\"Do you want to double, split, hit ,stand?\")\r\n",
        "    choic=input(\"\\n\")\r\n",
        "    if choic =='double':\r\n",
        "      double_card(computer,person)\r\n",
        "    elif choic =='split':\r\n",
        "      split_card(computer,person)\r\n",
        "    elif choic=='hit':\r\n",
        "      hit_card(computer,person)\r\n",
        "    elif choic=='stand':\r\n",
        "      stand_card(computer,person)  \r\n",
        "  else:\r\n",
        "    print(\"Do you want to double, hit ,stand?\") #When you have card that are used more frequent! yeppi \r\n",
        "    choic=input(\"\\n\")\r\n",
        "    if choic =='double':\r\n",
        "      double_card(computer,person)\r\n",
        "    elif choic=='hit':\r\n",
        "      hit_card(computer,person)\r\n",
        "    elif choic=='stand':\r\n",
        "      stand_card(computer,person) \r\n",
        "  return\r\n",
        "    \r\n"
      ],
      "execution_count": null,
      "outputs": []
    },
    {
      "cell_type": "code",
      "metadata": {
        "id": "Rn4ZBCQiTfSo"
      },
      "source": [
        "#Do you wanna reveal the card it's here\r\n",
        "def stand_card(comp,pers):\r\n",
        "  '''For stand card'''\r\n",
        "  if sum(comp)<15:\r\n",
        "    comp=comp_check(comp)      #it's for checking computer card whetther they are greater then 21\r\n",
        "  print(f\"\\n Your card are {pers}\")\r\n",
        "  print(f\"\\n computer card are {comp}\")\r\n",
        "  result_check(pers,comp)      #it's for comparing the results of computer and person"
      ],
      "execution_count": null,
      "outputs": []
    },
    {
      "cell_type": "code",
      "metadata": {
        "id": "IQK6QBx3yCF-"
      },
      "source": [
        "#Do you wanna split the card program is here below get it___\r\n",
        "def split_card(comp,pers):\r\n",
        "  print(\"card is splitted\\n\")\r\n",
        "  new_comp=pers[-1]\r\n",
        "  pers.pop()\r\n",
        "  pers.append(random.choice(card_num))\r\n",
        "  if sum(pers)==20 or sum(pers)==10:\r\n",
        "    print(\"Do you want to double, split, hit ,stand?\")\r\n",
        "    choic=input(\"\\n\")\r\n",
        "    if choic =='double':\r\n",
        "      double_card(comp,pers)\r\n",
        "    elif choic =='split':\r\n",
        "      split_card(comp,pers)\r\n",
        "    elif choic=='hit':\r\n",
        "      hit_card(comp,person)\r\n",
        "    elif choic=='stand':\r\n",
        "      stand_card(com,pers)\r\n",
        "  elif sum(pers)==21:\r\n",
        "    print(f\"\\n\\nyour card are {pers}\")\r\n",
        "    print(f\"your card are {comp}\")\r\n",
        "    if sum(comp)==21:\r\n",
        "      print(\"It's draw for these card\\n\\n\")\r\n",
        "  else:\r\n",
        "    print(\"Do you want to double, hit ,stand?\")\r\n",
        "    choic=input(\"\\n\")\r\n",
        "    if choic =='double':\r\n",
        "      double_card(comp,pers)\r\n",
        "    elif choic=='hit':\r\n",
        "      hit_card(comp,pers)\r\n",
        "    elif choic=='stand':\r\n",
        "      stand_card(comp,pers)\r\n",
        "      new_comp.append(random.choice(card_num))                \r\n",
        "      stand_card(new_comp,person)                               #it's for revealing you already know where to reveal\r\n"
      ],
      "execution_count": null,
      "outputs": []
    },
    {
      "cell_type": "code",
      "metadata": {
        "id": "xjEHJDAMXmCg"
      },
      "source": [
        "#it's your choice what you want to choose?\r\n",
        "def choice1(comp,pers):\r\n",
        "  if sum(pers)==20 or sum(pers)==10:\r\n",
        "    print(\"Do you want to double, split, hit ,stand?\")\r\n",
        "    choic=input(\"\\n\")\r\n",
        "    if choic =='double':\r\n",
        "      double_card(computer,person)\r\n",
        "    elif choic =='split':\r\n",
        "      split_card(computer,person)\r\n",
        "    elif choic=='hit':\r\n",
        "      hit_card(computer,person)\r\n",
        "    elif choic=='stand':\r\n",
        "      stand_card(computer,person)\r\n",
        "  elif sum(pers)==21:\r\n",
        "    print(f\"\\n\\nyour card are {pers}\")\r\n",
        "    print(f\"your card are {comp}\")\r\n",
        "    if sum(comp)==21:\r\n",
        "      print(\"It's draw for these card\\n\\n\")\r\n",
        "  "
      ],
      "execution_count": null,
      "outputs": []
    },
    {
      "cell_type": "code",
      "metadata": {
        "id": "wl9rzRbNAkD0"
      },
      "source": [
        "#it's for hitting again and again the card\r\n",
        "def hit_card(comp,pers):\r\n",
        "  inp='hit'\r\n",
        "  print(f\"Your card are{pers}\")\r\n",
        "  print(f\"computer card {comp[0]}\")\r\n",
        "  print(\"Adding one more card\")\r\n",
        "\r\n",
        "  while inp=='hit':\r\n",
        "    pers.append(random.choice(card_num))\r\n",
        "    print(f\"\\n\\nAdded card ={ pers[-1]}\\n\")\r\n",
        "    \r\n",
        "    \r\n",
        "    if sum(pers)>21:\r\n",
        "       print(f\"Your card are{pers}\")\r\n",
        "       print(f\"computer card {comp}\")\r\n",
        "       print(\"You lost\")       \r\n",
        "       return 0\r\n",
        "       \r\n",
        "    pers=person_greater(pers)\r\n",
        "    print(\"Do you want to hit or stand\")\r\n",
        "    inp=input(\"\\n\")\r\n",
        "    if inp=='hit':\r\n",
        "        print(f\"Your card are{pers}\")\r\n",
        "        print(f\"computer card {comp[0]}\\n\\n\")\r\n",
        "        print(\"Adding one more card\")\r\n",
        "\r\n",
        "\r\n",
        "  \r\n",
        "  print(f\"Your card are{pers}\")\r\n",
        "  comp=comp_check(comp)\r\n",
        "  print(f\"computer card {comp}\")\r\n",
        "  result_check(pers,comp)\r\n",
        "  \r\n",
        "  \r\n",
        "  return\r\n",
        "\r\n",
        "  \r\n",
        "  "
      ],
      "execution_count": null,
      "outputs": []
    },
    {
      "cell_type": "code",
      "metadata": {
        "id": "FI1FIbEHZ0TV"
      },
      "source": [
        "#Hey you got extra money use this it will give you one more card but double your money bid\r\n",
        "def double_card(comp,pers):\r\n",
        "   print(\"Bet is doubled\")\r\n",
        "   print(\"\\n You get one more card\")\r\n",
        "   pers.append(random.choice(card_num))\r\n",
        "   \r\n",
        "   pers=person_greater(pers)  #Checking for person greater then \r\n",
        "   print(f\"Your card are{pers}\")\r\n",
        "   print(f\"computer card {comp}\")\r\n",
        "   if sum(pers)>21:\r\n",
        "     print(\"You lost\")\r\n",
        "     return 0\r\n",
        "   print(\"-------------------adding card for computer -------------------------\")\r\n",
        "   print(f\"Your card are{pers}\")\r\n",
        " \r\n",
        "   \r\n",
        "   comp=comp_check(comp)\r\n",
        "   print(f\"computer card {comp}\")\r\n",
        "   result_check(pers,comp)\r\n"
      ],
      "execution_count": null,
      "outputs": []
    },
    {
      "cell_type": "code",
      "metadata": {
        "id": "fDiJPtgK04IK"
      },
      "source": [
        "#it's for comparing the result for computer and person\r\n",
        "def result_check(pers,comp):\r\n",
        "   if sum(comp)==21:\r\n",
        "     print(\"You lost as computer hit jackpot\")\r\n",
        "     return\r\n",
        "   elif sum(pers)==21:\r\n",
        "     print(\"You won\")\r\n",
        "     return \r\n",
        "   elif sum(pers)>21:\r\n",
        "     print(\"You lost\")\r\n",
        "\r\n",
        "\r\n",
        "   if sum(pers)==21 and sum(comp)==21:\r\n",
        "     print(\"It's draw\")\r\n",
        "     return \r\n",
        "   elif sum(comp)>21:\r\n",
        "     print(\"You won\")\r\n",
        "     return \r\n",
        "   elif sum(comp)==sum(pers):\r\n",
        "     print(\"it's draw\") \r\n",
        "     return \r\n",
        "   elif 21-sum(comp)>21-sum(pers):\r\n",
        "     print(\"You won\")\r\n",
        "     return \r\n",
        "   else:\r\n",
        "     print(\"You lost\")   \r\n"
      ],
      "execution_count": null,
      "outputs": []
    },
    {
      "cell_type": "code",
      "metadata": {
        "id": "-Avq6coX0N4f"
      },
      "source": [
        "#it's for checking computer \r\n",
        "def comp_check(comp):\r\n",
        "    '''Checking sum for computer'''\r\n",
        "    if sum(comp)<17:\r\n",
        "      while sum(comp)<17:\r\n",
        "        comp.append(random.choice(card_num))\r\n",
        "        if sum(comp)>21:\r\n",
        "          if 11 in comp:\r\n",
        "             ind=comp.index(11)\r\n",
        "             comp[ind]=1\r\n",
        "    return comp"
      ],
      "execution_count": null,
      "outputs": []
    },
    {
      "cell_type": "code",
      "metadata": {
        "colab": {
          "base_uri": "https://localhost:8080/"
        },
        "id": "7ivgC5xw-42k",
        "outputId": "4bcfea92-b359-4171-9735-b5a533738768"
      },
      "source": [
        "print(comp_check([11,4]))"
      ],
      "execution_count": null,
      "outputs": [
        {
          "output_type": "stream",
          "text": [
            "[11, 4, 3]\n"
          ],
          "name": "stdout"
        }
      ]
    },
    {
      "cell_type": "code",
      "metadata": {
        "id": "NzZh0TzJzN3e"
      },
      "source": [
        "def person_greater(pers):\r\n",
        "   if sum(pers)>21:#checking for person\r\n",
        "      if 11 in pers:\r\n",
        "        ind=pers.index(11)\r\n",
        "        pers[ind]=1\r\n",
        "   return pers\r\n"
      ],
      "execution_count": null,
      "outputs": []
    },
    {
      "cell_type": "code",
      "metadata": {
        "id": "-cX5qw6gRl1C"
      },
      "source": [
        ""
      ],
      "execution_count": null,
      "outputs": []
    },
    {
      "cell_type": "code",
      "metadata": {
        "colab": {
          "base_uri": "https://localhost:8080/"
        },
        "id": "sCyvAWdf7sl0",
        "outputId": "e7f45f40-ca81-4a53-ff8b-56232939945a"
      },
      "source": [
        "inp=input(\"Do you wanna play black jack ?\\n\\nYes ---to play \\nNo ---- if you don't want to play\\n\\n\")\r\n",
        "if  inp=='Yes':\r\n",
        "  blackjack()\r\n",
        "elif inp=='No':\r\n",
        "  print(\"\\n People are winning alot of money you should play too\")\r\n",
        "else:\r\n",
        "  print(\"Please write Yes or No\")\r\n"
      ],
      "execution_count": null,
      "outputs": [
        {
          "output_type": "stream",
          "text": [
            "Do you wanna play black jack ?\n",
            "\n",
            "Yes ---to play \n",
            "No ---- if you don't want to play\n",
            "\n",
            "Yes\n",
            "Your card are [6, 10]\n",
            "\n",
            "computer card are 7\n",
            "\n",
            "Do you want to double, hit ,stand?\n",
            "\n",
            "hit\n",
            "Your card are[6, 10]\n",
            "computer card 7\n",
            "Adding one more card\n",
            "\n",
            "\n",
            "Added card =2\n",
            "\n",
            "Do you want to hit or stand\n",
            "\n",
            "stand\n",
            "Your card are[6, 10, 2]\n",
            "computer card [7, 10]\n",
            "You won\n"
          ],
          "name": "stdout"
        }
      ]
    },
    {
      "cell_type": "code",
      "metadata": {
        "id": "tZQGIGm4C0Hk",
        "colab": {
          "base_uri": "https://localhost:8080/",
          "height": 167
        },
        "outputId": "b08333cf-59e4-4e41-8b4e-b510250b753f"
      },
      "source": [
        "YYesda"
      ],
      "execution_count": null,
      "outputs": [
        {
          "output_type": "error",
          "ename": "NameError",
          "evalue": "ignored",
          "traceback": [
            "\u001b[0;31m---------------------------------------------------------------------------\u001b[0m",
            "\u001b[0;31mNameError\u001b[0m                                 Traceback (most recent call last)",
            "\u001b[0;32m<ipython-input-14-9c818f4fb444>\u001b[0m in \u001b[0;36m<module>\u001b[0;34m()\u001b[0m\n\u001b[0;32m----> 1\u001b[0;31m \u001b[0mYYesda\u001b[0m\u001b[0;34m\u001b[0m\u001b[0;34m\u001b[0m\u001b[0m\n\u001b[0m",
            "\u001b[0;31mNameError\u001b[0m: name 'YYesda' is not defined"
          ]
        }
      ]
    },
    {
      "cell_type": "code",
      "metadata": {
        "id": "3BNJ9AHQ72JP"
      },
      "source": [
        ""
      ],
      "execution_count": null,
      "outputs": []
    }
  ]
}